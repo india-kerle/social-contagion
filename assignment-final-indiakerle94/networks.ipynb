{
 "cells": [
  {
   "cell_type": "code",
   "execution_count": 7,
   "metadata": {},
   "outputs": [],
   "source": [
    "import matplotlib.pyplot as plt\n",
    "\n",
    "from get_data import *\n",
    "from calculate_motifs import *\n",
    "from simulations import *"
   ]
  },
  {
   "cell_type": "code",
   "execution_count": 10,
   "metadata": {},
   "outputs": [
    {
     "name": "stdout",
     "output_type": "stream",
     "text": [
      "1 - loading data...\n"
     ]
    }
   ],
   "source": [
    "#Load data\n",
    "print(\"1 - loading data...\")\n",
    "cheater_data = get_cheater_data()\n",
    "killer_data = get_killers_data()"
   ]
  },
  {
   "cell_type": "code",
   "execution_count": 11,
   "metadata": {},
   "outputs": [
    {
     "name": "stdout",
     "output_type": "stream",
     "text": [
      "The number of individuals who were killed by cheaters then went on to cheat themselves within 5 days is 29\n"
     ]
    }
   ],
   "source": [
    "#Question 1: How many individuals who were killed by cheaters went on to cheat themselves after 5 days?\n",
    "\n",
    "original_number_of_motifs = calc_victim_cheater_motifs(cheater_data, killer_data)\n",
    "print(f'The number of individuals who were killed by cheaters then went on to cheat themselves within 5 days is {original_number_of_motifs}')"
   ]
  },
  {
   "cell_type": "code",
   "execution_count": 12,
   "metadata": {},
   "outputs": [
    {
     "name": "stdout",
     "output_type": "stream",
     "text": [
      "running simulation...0\n",
      "running simulation...1\n",
      "running simulation...2\n",
      "running simulation...3\n",
      "running simulation...4\n",
      "running simulation...5\n",
      "running simulation...6\n",
      "running simulation...7\n",
      "running simulation...8\n",
      "running simulation...9\n"
     ]
    }
   ],
   "source": [
    "#Question 2. Run simluations!\n",
    "\n",
    "run_simulation(killer_data, cheater_data)"
   ]
  },
  {
   "cell_type": "code",
   "execution_count": 15,
   "metadata": {},
   "outputs": [],
   "source": [
    "#Question 3. Calculate cheater-victim motifs for 10 randomised simulations\n",
    "\n",
    "sim_data_list = get_simulations_from_pickle_files()\n",
    "motif_counts = []\n",
    "for sim_data in sim_data_list:\n",
    "    motif_nums = calc_victim_cheater_motifs(cheater_data, sim_data)\n",
    "    motif_counts.append(motif_nums)"
   ]
  },
  {
   "cell_type": "code",
   "execution_count": 16,
   "metadata": {},
   "outputs": [
    {
     "data": {
      "text/plain": [
       "Text(0.5, 1.0, 'Cheater-Victim Motif Count for 10 Simulations Histogram')"
      ]
     },
     "execution_count": 16,
     "metadata": {},
     "output_type": "execute_result"
    },
    {
     "data": {
      "image/png": "[encoded data removed]",
      "text/plain": [
       "<Figure size 432x288 with 1 Axes>"
      ]
     },
     "metadata": {
      "needs_background": "light"
     },
     "output_type": "display_data"
    }
   ],
   "source": [
    "_ = plt.hist(motif_counts)\n",
    "plt.axvline(original_number_of_motifs)\n",
    "plt.title('Cheater-Victim Motif Count for 10 Simulations Histogram')"
   ]
  },
  {
   "cell_type": "markdown",
   "metadata": {},
   "source": [
    "### so...are victims of cheaters more likely to cheat?"
   ]
  },
  {
   "cell_type": "markdown",
   "metadata": {},
   "source": [
    "After running 10 randomised simulations, the number of individuals who were killed by cheaters then went on to cheat themselves wiithin 5 days increased. Thus, this does not support the hypothesis that victims of cheaters are more likely to cheat."
   ]
  }
 ],
 "metadata": {
  "kernelspec": {
   "display_name": "Python 3",
   "language": "python",
   "name": "python3"
  },
  "language_info": {
   "codemirror_mode": {
    "name": "ipython",
    "version": 3
   },
   "file_extension": ".py",
   "mimetype": "text/x-python",
   "name": "python",
   "nbconvert_exporter": "python",
   "pygments_lexer": "ipython3",
   "version": "3.7.3"
  }
 },
 "nbformat": 4,
 "nbformat_minor": 2
}
