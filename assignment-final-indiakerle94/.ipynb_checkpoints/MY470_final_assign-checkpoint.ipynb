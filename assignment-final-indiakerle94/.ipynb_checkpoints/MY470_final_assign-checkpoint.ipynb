{
 "cells": [
  {
   "cell_type": "markdown",
   "metadata": {
    "slideshow": {
     "slide_type": "slide"
    }
   },
   "source": [
    "### MY470 Computer Programming\n",
    "\n",
    "### Final Assignment, MT 2019\n",
    "\n",
    "#### \\*\\*\\* Due 12:00 noon on Monday, January 20, 2020 \\*\\*\\*"
   ]
  },
  {
   "cell_type": "markdown",
   "metadata": {
    "slideshow": {
     "slide_type": "slide"
    }
   },
   "source": [
    "---\n",
    "## Are victims of cheaters more likely to cheat?\n",
    "\n",
    "The final assignment asks you to use the computational thinking and programming skills you learned in the course to answer an empirical social science question. You are expected to apply the best practices and theoretical concepts we covered in the course to produce a program that not only returns the correct output but is also legible, modular, and reasonably optimized. The assignment assumes mastery of loops, conditionals, and functions, as well as awareness of issues related to runtime performance.\n",
    "\n",
    "In the assignment, we will study the social contagion of cheating on the massive multiplayer online game PlayerUnknown's Battlegrounds (PUBG). Cheating in this context means the adoption of unapproved software that gives the player an unfair advantage in the game (e.g. being able to see through walls). Our hypothesis is that players who are killed in the game by cheaters become likely to adopt cheating themselves. To test this hypothesis, we will first count how many victims of players become cheaters within a certain period of time. We will call these **victim–cheater motifs**. We will then simulate alternative universes in which the players played the same games in the same sequence but happened to be killed by someone else. Finally, we will compare how the count of the victim–cheater motifs observed in the actual data compares to what we would expect in a \"randomized\" world.  \n",
    "\n",
    "**NOTE: You are only allowed to use fundamental Python data types (lists, tuples, dictionaries, numpy.ndarray, etc.) to complete this assignment.** You are not allowed to use advanced data querying and data analysis packages such as pandas, sqlite, networkx, or similar. We impose this restriction in order to test your grasp of fundamental programming concepts, not your scripting experience with Python libraries. \n",
    "\n",
    "#### Hints\n",
    "\n",
    "Although this assignment is quite streamlined, imagine that the tasks here are part of a larger project. How would you structure your program if in the future you may need to use a different dataset with similar structure, manipulate the data differently, add additional analyses, or modify the focus of the current analysis? For example, consider placing helping functions in a separate file called `utils.py` or `tools.py`. These would be functions that you may need in different contexts and for different tasks. \n",
    "\n",
    "Keep different data manipulations in separate functions/methods and group related functions/classes in separate `.py` files. \n"
   ]
  },
  {
   "cell_type": "markdown",
   "metadata": {
    "slideshow": {
     "slide_type": "slide"
    }
   },
   "source": [
    "### Data\n",
    "\n",
    "You will find the data in the repository [https://github.com/lse-my470/assignment-final-data.git](https://github.com/lse-my470/assignment-final-data.git). Please clone the data repository in the same directory where you clone the repository `assignment-final-yourgithubname`. Keep the name for the data folder `assignment-final-data`. Any time when you refer to the data in your code, please use a relative path such as `'../assignment-final-data/filename.txt'` instead of an absolute path such as `'/Users/myname/Documents/my470/assignment-final-data/filename.txt'`. This way, we will be able to test your submission with our own copy of the data without having to modify your code.\n",
    "\n",
    "The data were collected by Jinny Kim (LSE ASDS MSc, 2019). The repository contains the following files:\n",
    "\n",
    "* `cheaters.txt` – contains cheaters who played between March 1 and March 10, 2019\n",
    "    1. player account id\n",
    "    * estimated date when the player started cheating\n",
    "    * date when the player's account was banned due to cheating\n",
    "    \n",
    "* `kills.txt` – contains the killings done in 6,000 randomly selected matches played between March 1 and March 10, 2019\n",
    "    1. match id \n",
    "    * account id of the killer\n",
    "    * account id of the player who got killed\n",
    "    * time when the attack (killing) happened\n",
    "\n",
    "#### Hints\n",
    "\n",
    "When writing your code, test it on a small \"toy dataset\", instead of the entire data. This way, you won't need to wait for minutes/hours just to find out that you have a syntax error!\n",
    "\n",
    "You should not modify the original data in any way. If your code creates new data files, you should save them in the directory where this file resides. "
   ]
  },
  {
   "cell_type": "markdown",
   "metadata": {},
   "source": [
    "### 1. Victims of cheaters turn into cheaters\n",
    "\n",
    "Count how many individuals were killed at least once by a cheater and then started cheating within the next 5 days. We will assume here that we can only talk about a causal relationship if the two events (being killed by a cheater and starting to cheat) are relatively proximate in time (within 5 days of each other). In essence, we are looking for temporal motifs in which cheater A kills B and then B becomes cheater, but the timing between the two events should not be more than 5 days.  \n",
    "\n",
    "#### Hint\n",
    "\n",
    "Assume that a day starts at 0:00. \n",
    "\n",
    "\n",
    "### 2. Simulating an alternative universe\n",
    "\n",
    "Of course, proximal in time does not necessarily mean causal. \n",
    "\n",
    "To establish causality, we will simulate an alternative world in which everything is the same but the cheater happens to kill someone else. If being a victim of cheating causes cheating, in the randomized world we will observe fewer victim–cheater motifs than in reality. To simulate an alternative universe, we will keep the timing and structure of interactions but randomly assign the identities of players. There are certain restrictions we need to observe, however: \n",
    "\n",
    "* Randomize within a game, not between games. \n",
    "* Randomize only games that have at least one cheater. The killings in games without cheaters do not affect the measure we are using.\n",
    "* A player cannot kill if the player has been killed already.\n",
    "* Since cheaters may tend to kill more or kill at a specific period in the game, we will preserve their position in the killing network. That is, only non-cheaters should be randomly reassigned. \n",
    "\n",
    "The figure below illustrates how shuffling should be completed:\n",
    "\n",
    "![Match randomization](match_randomization_diagram.png)\n",
    "\n",
    "#### Hints\n",
    "\n",
    "This step may be time consuming so it is worth finding a way to save the data so that you don't need to run the randomization again and again while working on step 3 below. If you decide to do so, please write your code to save any such files with processed data in the directory where this file resides. This way, we can run your code without having to alter it.\n",
    "\n",
    "Think about what is the most efficient way, both in terms of time and space, to save the data.\n",
    "\n",
    "\n",
    "### 3. Evaluating reality against alternative universes \n",
    "\n",
    "Conduct 10 randomizations for the data. Then plot the number of victim–cheater motifs observed in the actual data compared to the distribution you get in the randomized data. What do you observe? What does this tell us? (Write 2-3 sentences to reflect on the answer. You will not be marked on what you write but wouldn't it be a waste to do all of this work and not even try to think about what the results mean?) \n",
    "\n",
    "### Hint\n",
    "\n",
    "One way to visualize the results is with a histogram for the randomized network and a vertical line for the real network. Since we only have 10 randomized observations, this may not look that well, so feel free to experiment with other plot types.\n"
   ]
  },
  {
   "cell_type": "markdown",
   "metadata": {},
   "source": [
    "## Import and run your code here\n",
    "\n",
    "Keep your code in separate `.py` files and then import it in the code cell below. Then call the functions/methods you need to conduct the analysis described above. We should be able to run the cell below to calculate again the results and get the requested output, without having to modify your code in any way. "
   ]
  },
  {
   "cell_type": "code",
   "execution_count": 1,
   "metadata": {},
   "outputs": [],
   "source": [
    "# import modules to estimate and show results\n",
    "import matplotlib.pyplot as plt\n",
    "\n",
    "from get_data import get_cheater_data, get_killers_data, get_simulations_from_pickle_files\n",
    "from calculate_motifs import calc_victim_cheater_motifs\n",
    "from simulations import run_simulation"
   ]
  },
  {
   "cell_type": "code",
   "execution_count": 2,
   "metadata": {},
   "outputs": [
    {
     "name": "stdout",
     "output_type": "stream",
     "text": [
      "1 - loading data...\n"
     ]
    }
   ],
   "source": [
    "#Load data \n",
    "print(\"1 - loading data...\")\n",
    "cheater_data = get_cheater_data()\n",
    "killers_data = get_killers_data()"
   ]
  },
  {
   "cell_type": "code",
   "execution_count": 3,
   "metadata": {},
   "outputs": [
    {
     "name": "stdout",
     "output_type": "stream",
     "text": [
      "The number of individuals who were killed by cheaters then went on to cheat themselves within 5 days is 29.\n"
     ]
    }
   ],
   "source": [
    "#Question 1. \n",
    "\n",
    "original_number_of_motifs = calc_victim_cheater_motifs(cheater_data, killers_data)\n",
    "print(f'The number of individuals who were killed by cheaters then went on to cheat themselves within 5 days is {original_number_of_motifs}.')      "
   ]
  },
  {
   "cell_type": "code",
   "execution_count": 4,
   "metadata": {},
   "outputs": [
    {
     "name": "stdout",
     "output_type": "stream",
     "text": [
      "running simulation...0\n",
      "running simulation...1\n",
      "running simulation...2\n",
      "running simulation...3\n",
      "running simulation...4\n",
      "running simulation...5\n",
      "running simulation...6\n",
      "running simulation...7\n",
      "running simulation...8\n",
      "running simulation...9\n"
     ]
    }
   ],
   "source": [
    "#Question 2. \n",
    "run_simulation(killers_data, cheater_data)"
   ]
  },
  {
   "cell_type": "code",
   "execution_count": 5,
   "metadata": {},
   "outputs": [
    {
     "name": "stdout",
     "output_type": "stream",
     "text": [
      "1582.9700322151184\n"
     ]
    },
    {
     "data": {
      "image/png": "[encoded data removed]",
      "text/plain": [
       "<Figure size 432x288 with 1 Axes>"
      ]
     },
     "metadata": {
      "needs_background": "light"
     },
     "output_type": "display_data"
    }
   ],
   "source": [
    "#Question 3.\n",
    "sim_data_list = get_simulations_from_pickle_files()\n",
    "motif_counts = []\n",
    "for sim_data in sim_data_list:\n",
    "    motif_nums = calc_victim_cheater_motifs(cheater_data, sim_data)\n",
    "    motif_counts.append(motif_nums)\n",
    "\n",
    "_ = plt.hist(motif_counts)\n",
    "plt.axvline(original_number_of_motifs)\n",
    "plt.title('Cheater-Victim Motif Count for 10 Simulations Histogram')"
   ]
  },
  {
   "cell_type": "code",
   "execution_count": 6,
   "metadata": {},
   "outputs": [],
   "source": [
    "#Are victims of cheaters more likely to cheat?\n",
    "\n",
    "#After running 10 simulations, the number of individuals who were killed by cheaters\n",
    "#then went on the cheat themselves within 5 days increased. This does NOT support\n",
    "#the hypothesis that victims of cheaters are more likely to cheat. "
   ]
  }
 ],
 "metadata": {
  "kernelspec": {
   "display_name": "Python 3",
   "language": "python",
   "name": "python3"
  },
  "language_info": {
   "codemirror_mode": {
    "name": "ipython",
    "version": 3
   },
   "file_extension": ".py",
   "mimetype": "text/x-python",
   "name": "python",
   "nbconvert_exporter": "python",
   "pygments_lexer": "ipython3",
   "version": "3.7.3"
  }
 },
 "nbformat": 4,
 "nbformat_minor": 2
}
